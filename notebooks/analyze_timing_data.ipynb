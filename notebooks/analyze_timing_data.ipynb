{
 "cells": [
  {
   "cell_type": "code",
   "execution_count": 4,
   "id": "bf25f09e",
   "metadata": {},
   "outputs": [],
   "source": [
    "import matplotlib.pyplot as plt\n",
    "import pandas as pd"
   ]
  },
  {
   "cell_type": "code",
   "execution_count": 70,
   "id": "6b62c27e",
   "metadata": {},
   "outputs": [
    {
     "data": {
      "text/html": [
       "<div>\n",
       "<style scoped>\n",
       "    .dataframe tbody tr th:only-of-type {\n",
       "        vertical-align: middle;\n",
       "    }\n",
       "\n",
       "    .dataframe tbody tr th {\n",
       "        vertical-align: top;\n",
       "    }\n",
       "\n",
       "    .dataframe thead th {\n",
       "        text-align: right;\n",
       "    }\n",
       "</style>\n",
       "<table border=\"1\" class=\"dataframe\">\n",
       "  <thead>\n",
       "    <tr style=\"text-align: right;\">\n",
       "      <th></th>\n",
       "      <th>sort</th>\n",
       "      <th>nth_element</th>\n",
       "      <th>max_element</th>\n",
       "      <th>max_element_ben_deane</th>\n",
       "      <th>accumulate</th>\n",
       "    </tr>\n",
       "  </thead>\n",
       "  <tbody>\n",
       "    <tr>\n",
       "      <th>0</th>\n",
       "      <td>5123.48</td>\n",
       "      <td>7696.43</td>\n",
       "      <td>16698.4</td>\n",
       "      <td>11968.3</td>\n",
       "      <td>5144.11</td>\n",
       "    </tr>\n",
       "    <tr>\n",
       "      <th>1</th>\n",
       "      <td>5160.59</td>\n",
       "      <td>3662.01</td>\n",
       "      <td>11781.1</td>\n",
       "      <td>11471.3</td>\n",
       "      <td>5549.67</td>\n",
       "    </tr>\n",
       "    <tr>\n",
       "      <th>2</th>\n",
       "      <td>4257.69</td>\n",
       "      <td>5818.32</td>\n",
       "      <td>11702.2</td>\n",
       "      <td>14626.0</td>\n",
       "      <td>5361.08</td>\n",
       "    </tr>\n",
       "    <tr>\n",
       "      <th>3</th>\n",
       "      <td>4224.76</td>\n",
       "      <td>2761.44</td>\n",
       "      <td>14853.7</td>\n",
       "      <td>11864.2</td>\n",
       "      <td>5429.47</td>\n",
       "    </tr>\n",
       "    <tr>\n",
       "      <th>4</th>\n",
       "      <td>4549.97</td>\n",
       "      <td>2580.55</td>\n",
       "      <td>15283.5</td>\n",
       "      <td>14987.2</td>\n",
       "      <td>5522.75</td>\n",
       "    </tr>\n",
       "  </tbody>\n",
       "</table>\n",
       "</div>"
      ],
      "text/plain": [
       "      sort   nth_element   max_element   max_element_ben_deane   accumulate\n",
       "0  5123.48       7696.43       16698.4                 11968.3      5144.11\n",
       "1  5160.59       3662.01       11781.1                 11471.3      5549.67\n",
       "2  4257.69       5818.32       11702.2                 14626.0      5361.08\n",
       "3  4224.76       2761.44       14853.7                 11864.2      5429.47\n",
       "4  4549.97       2580.55       15283.5                 14987.2      5522.75"
      ]
     },
     "execution_count": 70,
     "metadata": {},
     "output_type": "execute_result"
    }
   ],
   "source": [
    "timing_data = pd.read_csv(\"../results/timing_data.csv\")\n",
    "timing_data.head()"
   ]
  },
  {
   "cell_type": "code",
   "execution_count": 79,
   "id": "45d7187b",
   "metadata": {},
   "outputs": [
    {
     "data": {
      "text/html": [
       "<div>\n",
       "<style scoped>\n",
       "    .dataframe tbody tr th:only-of-type {\n",
       "        vertical-align: middle;\n",
       "    }\n",
       "\n",
       "    .dataframe tbody tr th {\n",
       "        vertical-align: top;\n",
       "    }\n",
       "\n",
       "    .dataframe thead th {\n",
       "        text-align: right;\n",
       "    }\n",
       "</style>\n",
       "<table border=\"1\" class=\"dataframe\">\n",
       "  <thead>\n",
       "    <tr style=\"text-align: right;\">\n",
       "      <th></th>\n",
       "      <th>sort</th>\n",
       "      <th>nth_element</th>\n",
       "      <th>max_element</th>\n",
       "      <th>max_element_ben_deane</th>\n",
       "      <th>accumulate</th>\n",
       "    </tr>\n",
       "  </thead>\n",
       "  <tbody>\n",
       "    <tr>\n",
       "      <th>0</th>\n",
       "      <td>0.742535</td>\n",
       "      <td>2.824095</td>\n",
       "      <td>2.92545</td>\n",
       "      <td>-1.07525</td>\n",
       "      <td>-0.407175</td>\n",
       "    </tr>\n",
       "    <tr>\n",
       "      <th>1</th>\n",
       "      <td>0.779645</td>\n",
       "      <td>-1.210325</td>\n",
       "      <td>-1.99185</td>\n",
       "      <td>-1.57225</td>\n",
       "      <td>-0.001615</td>\n",
       "    </tr>\n",
       "    <tr>\n",
       "      <th>2</th>\n",
       "      <td>-0.123255</td>\n",
       "      <td>0.945985</td>\n",
       "      <td>-2.07075</td>\n",
       "      <td>1.58245</td>\n",
       "      <td>-0.190205</td>\n",
       "    </tr>\n",
       "    <tr>\n",
       "      <th>3</th>\n",
       "      <td>-0.156185</td>\n",
       "      <td>-2.110895</td>\n",
       "      <td>1.08075</td>\n",
       "      <td>-1.17935</td>\n",
       "      <td>-0.121815</td>\n",
       "    </tr>\n",
       "    <tr>\n",
       "      <th>4</th>\n",
       "      <td>0.169025</td>\n",
       "      <td>-2.291785</td>\n",
       "      <td>1.51055</td>\n",
       "      <td>1.94365</td>\n",
       "      <td>-0.028535</td>\n",
       "    </tr>\n",
       "  </tbody>\n",
       "</table>\n",
       "</div>"
      ],
      "text/plain": [
       "       sort   nth_element   max_element   max_element_ben_deane   accumulate\n",
       "0  0.742535      2.824095       2.92545                -1.07525    -0.407175\n",
       "1  0.779645     -1.210325      -1.99185                -1.57225    -0.001615\n",
       "2 -0.123255      0.945985      -2.07075                 1.58245    -0.190205\n",
       "3 -0.156185     -2.110895       1.08075                -1.17935    -0.121815\n",
       "4  0.169025     -2.291785       1.51055                 1.94365    -0.028535"
      ]
     },
     "execution_count": 79,
     "metadata": {},
     "output_type": "execute_result"
    }
   ],
   "source": [
    "centered_data = 1e-3*(timing_data - timing_data.median()); # us to ms\n",
    "centered_data.head()"
   ]
  },
  {
   "cell_type": "code",
   "execution_count": 93,
   "id": "1b00d9ae",
   "metadata": {},
   "outputs": [
    {
     "data": {
      "text/plain": [
       "(0.0, 45.0)"
      ]
     },
     "execution_count": 93,
     "metadata": {},
     "output_type": "execute_result"
    },
    {
     "data": {
      "image/png": "[encoded data removed]",
      "text/plain": [
       "<Figure size 432x288 with 1 Axes>"
      ]
     },
     "metadata": {
      "needs_background": "light"
     },
     "output_type": "display_data"
    }
   ],
   "source": [
    "timing_data_ms = 1e-3*timing_data\n",
    "plt = timing_data_ms.boxplot(rot = 45);\n",
    "plt.set_ylabel(\"execution time in ms\")\n",
    "plt.set_ylim([0, 45])"
   ]
  },
  {
   "cell_type": "code",
   "execution_count": 85,
   "id": "714b6825",
   "metadata": {},
   "outputs": [
    {
     "data": {
      "text/plain": [
       "(-5.0, 17.0)"
      ]
     },
     "execution_count": 85,
     "metadata": {},
     "output_type": "execute_result"
    },
    {
     "data": {
      "image/png": "[encoded data removed]",
      "text/plain": [
       "<Figure size 432x288 with 1 Axes>"
      ]
     },
     "metadata": {
      "needs_background": "light"
     },
     "output_type": "display_data"
    }
   ],
   "source": [
    "plt = centered_data.boxplot(rot = 45);\n",
    "plt.set_ylabel(\"execution time in ms (centered)\")\n",
    "plt.set_ylim([-5, 17])"
   ]
  },
  {
   "cell_type": "code",
   "execution_count": 98,
   "id": "1504e7f3",
   "metadata": {},
   "outputs": [
    {
     "data": {
      "text/html": [
       "<div>\n",
       "<style scoped>\n",
       "    .dataframe tbody tr th:only-of-type {\n",
       "        vertical-align: middle;\n",
       "    }\n",
       "\n",
       "    .dataframe tbody tr th {\n",
       "        vertical-align: top;\n",
       "    }\n",
       "\n",
       "    .dataframe thead th {\n",
       "        text-align: right;\n",
       "    }\n",
       "</style>\n",
       "<table border=\"1\" class=\"dataframe\">\n",
       "  <thead>\n",
       "    <tr style=\"text-align: right;\">\n",
       "      <th></th>\n",
       "      <th>size</th>\n",
       "      <th>sort</th>\n",
       "      <th>nth_element</th>\n",
       "      <th>max_element</th>\n",
       "      <th>max_element_ben_deane</th>\n",
       "      <th>reduce</th>\n",
       "    </tr>\n",
       "  </thead>\n",
       "  <tbody>\n",
       "    <tr>\n",
       "      <th>0</th>\n",
       "      <td>10</td>\n",
       "      <td>0.095452</td>\n",
       "      <td>0.097269</td>\n",
       "      <td>0.054198</td>\n",
       "      <td>0.051214</td>\n",
       "      <td>0.026306</td>\n",
       "    </tr>\n",
       "    <tr>\n",
       "      <th>1</th>\n",
       "      <td>100</td>\n",
       "      <td>1.982410</td>\n",
       "      <td>0.606562</td>\n",
       "      <td>0.112742</td>\n",
       "      <td>0.108463</td>\n",
       "      <td>0.073273</td>\n",
       "    </tr>\n",
       "    <tr>\n",
       "      <th>2</th>\n",
       "      <td>1000</td>\n",
       "      <td>27.810500</td>\n",
       "      <td>5.438420</td>\n",
       "      <td>0.727042</td>\n",
       "      <td>0.673943</td>\n",
       "      <td>0.548181</td>\n",
       "    </tr>\n",
       "    <tr>\n",
       "      <th>3</th>\n",
       "      <td>10000</td>\n",
       "      <td>360.923000</td>\n",
       "      <td>46.594300</td>\n",
       "      <td>11.533700</td>\n",
       "      <td>6.333610</td>\n",
       "      <td>5.253630</td>\n",
       "    </tr>\n",
       "    <tr>\n",
       "      <th>4</th>\n",
       "      <td>20000</td>\n",
       "      <td>811.640000</td>\n",
       "      <td>94.967000</td>\n",
       "      <td>23.732600</td>\n",
       "      <td>14.696200</td>\n",
       "      <td>10.543900</td>\n",
       "    </tr>\n",
       "  </tbody>\n",
       "</table>\n",
       "</div>"
      ],
      "text/plain": [
       "    size        sort   nth_element   max_element   max_element_ben_deane  \\\n",
       "0     10    0.095452      0.097269      0.054198                0.051214   \n",
       "1    100    1.982410      0.606562      0.112742                0.108463   \n",
       "2   1000   27.810500      5.438420      0.727042                0.673943   \n",
       "3  10000  360.923000     46.594300     11.533700                6.333610   \n",
       "4  20000  811.640000     94.967000     23.732600               14.696200   \n",
       "\n",
       "      reduce  \n",
       "0   0.026306  \n",
       "1   0.073273  \n",
       "2   0.548181  \n",
       "3   5.253630  \n",
       "4  10.543900  "
      ]
     },
     "execution_count": 98,
     "metadata": {},
     "output_type": "execute_result"
    }
   ],
   "source": [
    "data = pd.read_csv(\"../results/results.csv\")\n",
    "data.head()"
   ]
  },
  {
   "cell_type": "code",
   "execution_count": 99,
   "id": "25ac08b1",
   "metadata": {},
   "outputs": [
    {
     "data": {
      "image/png": "[encoded data removed]",
      "text/plain": [
       "<Figure size 432x288 with 1 Axes>"
      ]
     },
     "metadata": {
      "needs_background": "light"
     },
     "output_type": "display_data"
    }
   ],
   "source": [
    "plt = data.plot(x=\"size\", logx=True);"
   ]
  },
  {
   "cell_type": "code",
   "execution_count": 29,
   "id": "7bcc13fd",
   "metadata": {},
   "outputs": [
    {
     "ename": "AttributeError",
     "evalue": "'DataFrame' object has no attribute 'reduce'",
     "output_type": "error",
     "traceback": [
      "\u001b[0;31m---------------------------------------------------------------------------\u001b[0m",
      "\u001b[0;31mAttributeError\u001b[0m                            Traceback (most recent call last)",
      "Input \u001b[0;32mIn [29]\u001b[0m, in \u001b[0;36m<cell line: 1>\u001b[0;34m()\u001b[0m\n\u001b[0;32m----> 1\u001b[0m \u001b[43mdata\u001b[49m\u001b[38;5;241;43m.\u001b[39;49m\u001b[43mreduce\u001b[49m\n",
      "File \u001b[0;32m~/.local/lib/python3.8/site-packages/pandas/core/generic.py:5575\u001b[0m, in \u001b[0;36mNDFrame.__getattr__\u001b[0;34m(self, name)\u001b[0m\n\u001b[1;32m   5568\u001b[0m \u001b[38;5;28;01mif\u001b[39;00m (\n\u001b[1;32m   5569\u001b[0m     name \u001b[38;5;129;01mnot\u001b[39;00m \u001b[38;5;129;01min\u001b[39;00m \u001b[38;5;28mself\u001b[39m\u001b[38;5;241m.\u001b[39m_internal_names_set\n\u001b[1;32m   5570\u001b[0m     \u001b[38;5;129;01mand\u001b[39;00m name \u001b[38;5;129;01mnot\u001b[39;00m \u001b[38;5;129;01min\u001b[39;00m \u001b[38;5;28mself\u001b[39m\u001b[38;5;241m.\u001b[39m_metadata\n\u001b[1;32m   5571\u001b[0m     \u001b[38;5;129;01mand\u001b[39;00m name \u001b[38;5;129;01mnot\u001b[39;00m \u001b[38;5;129;01min\u001b[39;00m \u001b[38;5;28mself\u001b[39m\u001b[38;5;241m.\u001b[39m_accessors\n\u001b[1;32m   5572\u001b[0m     \u001b[38;5;129;01mand\u001b[39;00m \u001b[38;5;28mself\u001b[39m\u001b[38;5;241m.\u001b[39m_info_axis\u001b[38;5;241m.\u001b[39m_can_hold_identifiers_and_holds_name(name)\n\u001b[1;32m   5573\u001b[0m ):\n\u001b[1;32m   5574\u001b[0m     \u001b[38;5;28;01mreturn\u001b[39;00m \u001b[38;5;28mself\u001b[39m[name]\n\u001b[0;32m-> 5575\u001b[0m \u001b[38;5;28;01mreturn\u001b[39;00m \u001b[38;5;28;43mobject\u001b[39;49m\u001b[38;5;241;43m.\u001b[39;49m\u001b[38;5;21;43m__getattribute__\u001b[39;49m\u001b[43m(\u001b[49m\u001b[38;5;28;43mself\u001b[39;49m\u001b[43m,\u001b[49m\u001b[43m \u001b[49m\u001b[43mname\u001b[49m\u001b[43m)\u001b[49m\n",
      "\u001b[0;31mAttributeError\u001b[0m: 'DataFrame' object has no attribute 'reduce'"
     ]
    }
   ],
   "source": [
    "data.reduce"
   ]
  },
  {
   "cell_type": "code",
   "execution_count": null,
   "id": "e94f9c30",
   "metadata": {},
   "outputs": [],
   "source": []
  }
 ],
 "metadata": {
  "kernelspec": {
   "display_name": "Python 3 (ipykernel)",
   "language": "python",
   "name": "python3"
  },
  "language_info": {
   "codemirror_mode": {
    "name": "ipython",
    "version": 3
   },
   "file_extension": ".py",
   "mimetype": "text/x-python",
   "name": "python",
   "nbconvert_exporter": "python",
   "pygments_lexer": "ipython3",
   "version": "3.8.10"
  }
 },
 "nbformat": 4,
 "nbformat_minor": 5
}
